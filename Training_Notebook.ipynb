{
 "cells": [
  {
   "cell_type": "markdown",
   "id": "5eeda589-df67-4b10-977d-2164cad53510",
   "metadata": {},
   "source": [
    "# My Jupyter Notebook on IBM Watson Studio"
   ]
  },
  {
   "cell_type": "markdown",
   "id": "b05a594a-5918-4ef2-bf29-9d7168376a7a",
   "metadata": {},
   "source": [
    " **Ajmal Shafi**\n",
    " \n",
    " Data Scientist"
   ]
  },
  {
   "cell_type": "markdown",
   "id": "296e1bc9-bb1e-4d3c-b12f-7367bd7c2e6c",
   "metadata": {},
   "source": [
    "*I am interested in data science because i love data analysis*"
   ]
  },
  {
   "cell_type": "markdown",
   "id": "4bb6805b-06de-421a-b92f-5d90c74796a4",
   "metadata": {},
   "source": [
    "### The Following Code test the formula"
   ]
  },
  {
   "cell_type": "code",
   "execution_count": 1,
   "id": "66f59f2e-6c55-49de-97fc-8a1f9dd25769",
   "metadata": {},
   "outputs": [
    {
     "data": {
      "text/plain": [
       "5"
      ]
     },
     "execution_count": 1,
     "metadata": {},
     "output_type": "execute_result"
    }
   ],
   "source": [
    "1+4"
   ]
  },
  {
   "cell_type": "markdown",
   "id": "e1d508f4-3907-49e9-b668-fbdb88455e5a",
   "metadata": {},
   "source": [
    "[I'm an inline-style link](https://www.google.com)\n"
   ]
  },
  {
   "cell_type": "markdown",
   "id": "d4eab0bc-11c7-4dda-81e3-6ba4f8ab539e",
   "metadata": {},
   "source": [
    "Markdown | Less | Pretty\n",
    "--- | --- | ---\n",
    "*Still* | `renders` | **nicely**\n",
    "1 | 2 | 3"
   ]
  },
  {
   "cell_type": "markdown",
   "id": "115ebc67-1f58-40e3-83da-e88336dc81a8",
   "metadata": {},
   "source": [
    "[^1]: My reference."
   ]
  },
  {
   "cell_type": "code",
   "execution_count": null,
   "id": "b014cc77-1e4e-4a6e-a0c7-51fa2643f46a",
   "metadata": {},
   "outputs": [],
   "source": []
  }
 ],
 "metadata": {
  "kernelspec": {
   "display_name": "Python",
   "language": "python",
   "name": "conda-env-python-py"
  },
  "language_info": {
   "codemirror_mode": {
    "name": "ipython",
    "version": 3
   },
   "file_extension": ".py",
   "mimetype": "text/x-python",
   "name": "python",
   "nbconvert_exporter": "python",
   "pygments_lexer": "ipython3",
   "version": "3.7.12"
  }
 },
 "nbformat": 4,
 "nbformat_minor": 5
}
