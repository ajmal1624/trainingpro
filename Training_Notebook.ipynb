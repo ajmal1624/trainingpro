{
  "metadata": {
    "kernelspec": {
      "name": "python",
      "display_name": "Pyolite",
      "language": "python"
    },
    "language_info": {
      "codemirror_mode": {
        "name": "python",
        "version": 3
      },
      "file_extension": ".py",
      "mimetype": "text/x-python",
      "name": "python",
      "nbconvert_exporter": "python",
      "pygments_lexer": "ipython3",
      "version": "3.8"
    }
  },
  "nbformat_minor": 5,
  "nbformat": 4,
  "cells": [
    {
      "cell_type": "markdown",
      "source": "# My Jupyter Notebook on IBM Watson Studio",
      "metadata": {},
      "id": "5eeda589-df67-4b10-977d-2164cad53510"
    },
    {
      "cell_type": "markdown",
      "source": " **Ajmal Shafi**\n \n Data Scientist",
      "metadata": {},
      "id": "b05a594a-5918-4ef2-bf29-9d7168376a7a"
    },
    {
      "cell_type": "markdown",
      "source": "*I am interested in data science because i love data analysis*",
      "metadata": {},
      "id": "296e1bc9-bb1e-4d3c-b12f-7367bd7c2e6c"
    },
    {
      "cell_type": "markdown",
      "source": "### The Following Code test the formula",
      "metadata": {},
      "id": "4bb6805b-06de-421a-b92f-5d90c74796a4"
    },
    {
      "cell_type": "code",
      "source": "1+4",
      "metadata": {},
      "execution_count": 1,
      "outputs": [
        {
          "execution_count": 1,
          "output_type": "execute_result",
          "data": {
            "text/plain": [
              "5"
            ]
          },
          "metadata": {}
        }
      ],
      "id": "66f59f2e-6c55-49de-97fc-8a1f9dd25769"
    },
    {
      "cell_type": "markdown",
      "source": "[I'm an inline-style link](https://www.google.com)\n",
      "metadata": {},
      "id": "e1d508f4-3907-49e9-b668-fbdb88455e5a"
    },
    {
      "cell_type": "markdown",
      "source": "Markdown | Less | Pretty\n--- | --- | ---\n*Still* | `renders` | **nicely**\n1 | 2 | 3",
      "metadata": {},
      "id": "d4eab0bc-11c7-4dda-81e3-6ba4f8ab539e"
    },
    {
      "cell_type": "markdown",
      "source": "- Eleven\n- Twelve\n- Thirteen\n- Fourteen\n- Fifteen\n- Sixteen",
      "metadata": {},
      "id": "37cc003f-57d3-4574-9c52-02dafe829cad"
    },
    {
      "cell_type": "code",
      "source": "",
      "metadata": {},
      "execution_count": null,
      "outputs": [],
      "id": "9f80d7be-361d-4668-9e74-a79fbe039108"
    }
  ]
}